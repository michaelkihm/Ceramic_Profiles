{
 "nbformat": 4,
 "nbformat_minor": 2,
 "metadata": {
  "language_info": {
   "name": "python",
   "codemirror_mode": {
    "name": "ipython",
    "version": 3
   },
   "version": "3.7.6-final"
  },
  "orig_nbformat": 2,
  "file_extension": ".py",
  "mimetype": "text/x-python",
  "name": "python",
  "npconvert_exporter": "python",
  "pygments_lexer": "ipython3",
  "version": 3,
  "kernelspec": {
   "name": "python37664bittensorflowcpuconda693c3f92db7f4e06b6d72a45a405140c",
   "display_name": "Python 3.7.6 64-bit ('tensorflow_CPU': conda)"
  }
 },
 "cells": [
  {
   "cell_type": "code",
   "execution_count": 1,
   "metadata": {},
   "outputs": [],
   "source": [
    "import numpy as np \n",
    "import cv2 as cv \n",
    "import matplotlib.pyplot as plt \n",
    "from CeramicsPreprocessorRGK import CeramicsPreprocessorRGK\n",
    "from FourierDescriptorMagnitude import FourierDescriptorMagnitude\n"
   ]
  },
  {
   "cell_type": "markdown",
   "metadata": {},
   "source": [
    "## Define helper functions"
   ]
  },
  {
   "cell_type": "code",
   "execution_count": 2,
   "metadata": {},
   "outputs": [],
   "source": [
    "def filenames_to_classes(full_filename:str):\n",
    "    \"\"\"\n",
    "    very basic function to convert filenames into class labels\n",
    "    \"\"\"\n",
    "    filename = full_filename.split('/')\n",
    "    name_to_label = {\n",
    "        'B':0,\n",
    "        'K':1,\n",
    "        'R':2,\n",
    "    }\n",
    "    return name_to_label.get(filename[-1][0])\n",
    "\n"
   ]
  },
  {
   "cell_type": "markdown",
   "metadata": {},
   "source": [
    "## Define path with shape images and preprocess to binary image"
   ]
  },
  {
   "cell_type": "code",
   "execution_count": 3,
   "metadata": {},
   "outputs": [],
   "source": [
    "path = \"/home/michael/Desktop/test\"\n",
    "preprocessor = CeramicsPreprocessorRGK(path,['.png'])\n",
    "out = preprocessor.run()\n",
    "images = []\n",
    "labels = np.array([])\n",
    "for image, filename in zip(*out):\n",
    "    images.append(image)\n",
    "    labels = np.append(labels, filenames_to_classes(filename))"
   ]
  },
  {
   "cell_type": "markdown",
   "metadata": {},
   "source": [
    "## Compute normalized magnitude only Fourier descriptors"
   ]
  },
  {
   "cell_type": "code",
   "execution_count": 4,
   "metadata": {},
   "outputs": [],
   "source": [
    "FD = FourierDescriptorMagnitude(images, descriptor_harmonics=50)\n",
    "descriptors = FD.run()\n",
    "\n",
    "assert len(labels) == len(descriptors)"
   ]
  },
  {
   "cell_type": "markdown",
   "metadata": {},
   "source": [
    "## Construct dataset"
   ]
  },
  {
   "cell_type": "code",
   "execution_count": null,
   "metadata": {},
   "outputs": [],
   "source": []
  }
 ]
}